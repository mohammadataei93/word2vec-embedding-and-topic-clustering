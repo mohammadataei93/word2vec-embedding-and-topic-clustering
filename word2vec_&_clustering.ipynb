{
  "nbformat": 4,
  "nbformat_minor": 0,
  "metadata": {
    "colab": {
      "name": "word2vec & clustering.ipynb",
      "provenance": [],
      "collapsed_sections": [
        "UYQZwcHgS_Eb",
        "V4l0VVeLTMsH",
        "LjL6rya5UwVG",
        "39yyAallBIOH"
      ]
    },
    "kernelspec": {
      "display_name": "Python 3",
      "name": "python3"
    },
    "language_info": {
      "name": "python"
    }
  },
  "cells": [
    {
      "cell_type": "markdown",
      "metadata": {
        "id": "UYQZwcHgS_Eb"
      },
      "source": [
        "# Data Preprccesing"
      ]
    },
    {
      "cell_type": "code",
      "metadata": {
        "id": "DzTaugnDSA4l"
      },
      "source": [
        "!pip install gensim\n",
        "!pip install hazm\n",
        "!pip install arabic_reshaper\n",
        "!pip install python-bidi"
      ],
      "execution_count": null,
      "outputs": []
    },
    {
      "cell_type": "code",
      "metadata": {
        "id": "RT_YI-5YTSJY"
      },
      "source": [
        "import numpy as np\n",
        "import pandas as pd\n",
        "import matplotlib.pyplot as plt\n",
        "from hazm import word_tokenize\n",
        "from heapq import nlargest\n",
        "from gensim.test.utils import datapath\n",
        "from gensim import utils\n",
        "import arabic_reshaper\n",
        "from bidi.algorithm import get_display\n",
        "from sklearn.feature_extraction.text import TfidfVectorizer"
      ],
      "execution_count": null,
      "outputs": []
    },
    {
      "cell_type": "markdown",
      "metadata": {
        "id": "d57MIXi5oN9F"
      },
      "source": [
        "reading data , spliting documents and labels"
      ]
    },
    {
      "cell_type": "code",
      "metadata": {
        "id": "T7JB6951PzDE"
      },
      "source": [
        "data = pd.DataFrame(columns=['doc' , 'topic'])\n",
        "\n",
        "with open('/content/drive/MyDrive/nlp/HW2/Hamshahri.txt',  encoding = 'UTF-8') as file:\n",
        "    data_lines = file.readlines()\n",
        "    for line_idx in range(len(data_lines)):\n",
        "        line = data_lines[line_idx]\n",
        "        splited_line = line.split('@@@@@@@@@@')\n",
        "        data = data.append({'doc' : splited_line[1][:-1]  , 'topic' : splited_line[0] } , ignore_index = True)\n"
      ],
      "execution_count": null,
      "outputs": []
    },
    {
      "cell_type": "code",
      "metadata": {
        "id": "yebE48JC1B_u",
        "colab": {
          "base_uri": "https://localhost:8080/",
          "height": 402
        },
        "outputId": "ef087ae0-0847-4bcf-b62a-5c45f81c4af3"
      },
      "source": [
        "data"
      ],
      "execution_count": null,
      "outputs": [
        {
          "output_type": "execute_result",
          "data": {
            "text/html": [
              "<div>\n",
              "<style scoped>\n",
              "    .dataframe tbody tr th:only-of-type {\n",
              "        vertical-align: middle;\n",
              "    }\n",
              "\n",
              "    .dataframe tbody tr th {\n",
              "        vertical-align: top;\n",
              "    }\n",
              "\n",
              "    .dataframe thead th {\n",
              "        text-align: right;\n",
              "    }\n",
              "</style>\n",
              "<table border=\"1\" class=\"dataframe\">\n",
              "  <thead>\n",
              "    <tr style=\"text-align: right;\">\n",
              "      <th></th>\n",
              "      <th>doc</th>\n",
              "      <th>topic</th>\n",
              "    </tr>\n",
              "  </thead>\n",
              "  <tbody>\n",
              "    <tr>\n",
              "      <th>0</th>\n",
              "      <td>جشنواره بین المللی موسیقی امروز آغاز می شود ب...</td>\n",
              "      <td>ادب و هنر</td>\n",
              "    </tr>\n",
              "    <tr>\n",
              "      <th>1</th>\n",
              "      <td>پرسپولیس دستخوش تغییرات مدیریتی می شود ورزش ف...</td>\n",
              "      <td>ورزش</td>\n",
              "    </tr>\n",
              "    <tr>\n",
              "      <th>2</th>\n",
              "      <td>رئیس جمهوری در خراسان گروه سیاسی حجت الاسلام ...</td>\n",
              "      <td>سیاسی</td>\n",
              "    </tr>\n",
              "    <tr>\n",
              "      <th>3</th>\n",
              "      <td>به مناسبت هفته دولت رئیس مجلس یاد شهیدان رجای...</td>\n",
              "      <td>سیاسی</td>\n",
              "    </tr>\n",
              "    <tr>\n",
              "      <th>4</th>\n",
              "      <td>براثر سانحه رانندگی نماینده مردم بوئین زهرا د...</td>\n",
              "      <td>اجتماعی</td>\n",
              "    </tr>\n",
              "    <tr>\n",
              "      <th>...</th>\n",
              "      <td>...</td>\n",
              "      <td>...</td>\n",
              "    </tr>\n",
              "    <tr>\n",
              "      <th>8594</th>\n",
              "      <td>خانه کارگر سازمان تامین اجتماعی باید در اختیا...</td>\n",
              "      <td>اقتصاد</td>\n",
              "    </tr>\n",
              "    <tr>\n",
              "      <th>8595</th>\n",
              "      <td>مدیر عامل بانک رفاه در گفت و گو با همشهری بان...</td>\n",
              "      <td>اقتصاد</td>\n",
              "    </tr>\n",
              "    <tr>\n",
              "      <th>8596</th>\n",
              "      <td>مجلس مواد قانونی مورد استناد برای تعطیلی مطبو...</td>\n",
              "      <td>اجتماعی</td>\n",
              "    </tr>\n",
              "    <tr>\n",
              "      <th>8597</th>\n",
              "      <td>داستانی برای همه فصول نگاهی دوباره به دن کیشو...</td>\n",
              "      <td>ادب و هنر</td>\n",
              "    </tr>\n",
              "    <tr>\n",
              "      <th>8598</th>\n",
              "      <td>ایران جوان توقیف شد گروه اجتماعی نشریه ایران ...</td>\n",
              "      <td>اجتماعی</td>\n",
              "    </tr>\n",
              "  </tbody>\n",
              "</table>\n",
              "<p>8599 rows × 2 columns</p>\n",
              "</div>"
            ],
            "text/plain": [
              "                                                    doc      topic\n",
              "0      جشنواره بین المللی موسیقی امروز آغاز می شود ب...  ادب و هنر\n",
              "1      پرسپولیس دستخوش تغییرات مدیریتی می شود ورزش ف...       ورزش\n",
              "2      رئیس جمهوری در خراسان گروه سیاسی حجت الاسلام ...      سیاسی\n",
              "3      به مناسبت هفته دولت رئیس مجلس یاد شهیدان رجای...      سیاسی\n",
              "4      براثر سانحه رانندگی نماینده مردم بوئین زهرا د...    اجتماعی\n",
              "...                                                 ...        ...\n",
              "8594   خانه کارگر سازمان تامین اجتماعی باید در اختیا...     اقتصاد\n",
              "8595   مدیر عامل بانک رفاه در گفت و گو با همشهری بان...     اقتصاد\n",
              "8596   مجلس مواد قانونی مورد استناد برای تعطیلی مطبو...    اجتماعی\n",
              "8597   داستانی برای همه فصول نگاهی دوباره به دن کیشو...  ادب و هنر\n",
              "8598   ایران جوان توقیف شد گروه اجتماعی نشریه ایران ...    اجتماعی\n",
              "\n",
              "[8599 rows x 2 columns]"
            ]
          },
          "metadata": {
            "tags": []
          },
          "execution_count": 4
        }
      ]
    },
    {
      "cell_type": "markdown",
      "metadata": {
        "id": "85hIUZGgqwMO"
      },
      "source": [
        "loading a list of 778 presian stop word "
      ]
    },
    {
      "cell_type": "code",
      "metadata": {
        "id": "g7YgrgaX1X5g"
      },
      "source": [
        "stopwords=[]\n",
        "with open( '/content/drive/MyDrive/nlp/HW2/stop_words.txt',  encoding = 'UTF-8') as file:\n",
        "  data_lines = file.readlines()\n",
        "  for line_idx in range(len(data_lines)):\n",
        "      stopwords.append(data_lines[line_idx][:-1])"
      ],
      "execution_count": null,
      "outputs": []
    },
    {
      "cell_type": "code",
      "metadata": {
        "id": "99jaxxDB1aph",
        "colab": {
          "base_uri": "https://localhost:8080/"
        },
        "outputId": "c7c7ce32-97d1-48e1-9f5e-beb5a31deef7"
      },
      "source": [
        "len(stopwords)"
      ],
      "execution_count": null,
      "outputs": [
        {
          "output_type": "execute_result",
          "data": {
            "text/plain": [
              "778"
            ]
          },
          "metadata": {
            "tags": []
          },
          "execution_count": 6
        }
      ]
    },
    {
      "cell_type": "markdown",
      "metadata": {
        "id": "ejW1kVHoq6Nx"
      },
      "source": [
        "a function that take a document filter stop words and return a free stop word document"
      ]
    },
    {
      "cell_type": "code",
      "metadata": {
        "id": "GgniDxhrM1Hz"
      },
      "source": [
        "def filter_stopwords(doc):\n",
        "  d = word_tokenize(doc)\n",
        "  for s_word in stopwords:\n",
        "    try: \n",
        "      while(1):\n",
        "        d.remove(s_word)\n",
        "    except : pass\n",
        "  ss= ''\n",
        "  for i in d:\n",
        "    ss += (i +' ') \n",
        "  return ss"
      ],
      "execution_count": null,
      "outputs": []
    },
    {
      "cell_type": "code",
      "metadata": {
        "id": "l2Jo9ThU10rq"
      },
      "source": [
        "data_stopwordless=pd.DataFrame()\n",
        "data_stopwordless['doc'] = data['doc'].apply(filter_stopwords)"
      ],
      "execution_count": null,
      "outputs": []
    },
    {
      "cell_type": "code",
      "metadata": {
        "id": "ELsX9wAk3hOw",
        "colab": {
          "base_uri": "https://localhost:8080/",
          "height": 402
        },
        "outputId": "e99a68ce-2f86-4b49-9553-8e9ae065b8a9"
      },
      "source": [
        "data_stopwordless"
      ],
      "execution_count": null,
      "outputs": [
        {
          "output_type": "execute_result",
          "data": {
            "text/html": [
              "<div>\n",
              "<style scoped>\n",
              "    .dataframe tbody tr th:only-of-type {\n",
              "        vertical-align: middle;\n",
              "    }\n",
              "\n",
              "    .dataframe tbody tr th {\n",
              "        vertical-align: top;\n",
              "    }\n",
              "\n",
              "    .dataframe thead th {\n",
              "        text-align: right;\n",
              "    }\n",
              "</style>\n",
              "<table border=\"1\" class=\"dataframe\">\n",
              "  <thead>\n",
              "    <tr style=\"text-align: right;\">\n",
              "      <th></th>\n",
              "      <th>doc</th>\n",
              "    </tr>\n",
              "  </thead>\n",
              "  <tbody>\n",
              "    <tr>\n",
              "      <th>0</th>\n",
              "      <td>جشنواره المللی موسیقی آغاز مسابقه جشنواره شامل...</td>\n",
              "    </tr>\n",
              "    <tr>\n",
              "      <th>1</th>\n",
              "      <td>پرسپولیس دستخوش تغییرات مدیریتی ورزش فوتبال اق...</td>\n",
              "    </tr>\n",
              "    <tr>\n",
              "      <th>2</th>\n",
              "      <td>رئیس جمهوری خراسان گروه سیاسی حجت الاسلام والم...</td>\n",
              "    </tr>\n",
              "    <tr>\n",
              "      <th>3</th>\n",
              "      <td>مناسبت هفته دولت رئیس مجلس یاد شهیدان رجایی با...</td>\n",
              "    </tr>\n",
              "    <tr>\n",
              "      <th>4</th>\n",
              "      <td>براثر سانحه رانندگی نماینده بوئین زهرا بیمارست...</td>\n",
              "    </tr>\n",
              "    <tr>\n",
              "      <th>...</th>\n",
              "      <td>...</td>\n",
              "    </tr>\n",
              "    <tr>\n",
              "      <th>8594</th>\n",
              "      <td>خانه کارگر سازمان تامین اجتماعی اختیار گروه کا...</td>\n",
              "    </tr>\n",
              "    <tr>\n",
              "      <th>8595</th>\n",
              "      <td>مدیر عامل بانک رفاه همشهری بانک رفاه کارگران ن...</td>\n",
              "    </tr>\n",
              "    <tr>\n",
              "      <th>8596</th>\n",
              "      <td>مجلس مواد قانونی استناد تعطیلی مطبوعات بررسی گ...</td>\n",
              "    </tr>\n",
              "    <tr>\n",
              "      <th>8597</th>\n",
              "      <td>داستانی فصول نگاهی دن کیشوت سروانتس نقطه عطف ا...</td>\n",
              "    </tr>\n",
              "    <tr>\n",
              "      <th>8598</th>\n",
              "      <td>ایران جوان توقیف گروه اجتماعی نشریه ایران جوان...</td>\n",
              "    </tr>\n",
              "  </tbody>\n",
              "</table>\n",
              "<p>8599 rows × 1 columns</p>\n",
              "</div>"
            ],
            "text/plain": [
              "                                                    doc\n",
              "0     جشنواره المللی موسیقی آغاز مسابقه جشنواره شامل...\n",
              "1     پرسپولیس دستخوش تغییرات مدیریتی ورزش فوتبال اق...\n",
              "2     رئیس جمهوری خراسان گروه سیاسی حجت الاسلام والم...\n",
              "3     مناسبت هفته دولت رئیس مجلس یاد شهیدان رجایی با...\n",
              "4     براثر سانحه رانندگی نماینده بوئین زهرا بیمارست...\n",
              "...                                                 ...\n",
              "8594  خانه کارگر سازمان تامین اجتماعی اختیار گروه کا...\n",
              "8595  مدیر عامل بانک رفاه همشهری بانک رفاه کارگران ن...\n",
              "8596  مجلس مواد قانونی استناد تعطیلی مطبوعات بررسی گ...\n",
              "8597  داستانی فصول نگاهی دن کیشوت سروانتس نقطه عطف ا...\n",
              "8598  ایران جوان توقیف گروه اجتماعی نشریه ایران جوان...\n",
              "\n",
              "[8599 rows x 1 columns]"
            ]
          },
          "metadata": {
            "tags": []
          },
          "execution_count": 26
        }
      ]
    },
    {
      "cell_type": "markdown",
      "metadata": {
        "id": "V4l0VVeLTMsH"
      },
      "source": [
        "# Embedding\n"
      ]
    },
    {
      "cell_type": "markdown",
      "metadata": {
        "id": "DqVHBzACT5ln"
      },
      "source": [
        "## skip-gram model"
      ]
    },
    {
      "cell_type": "markdown",
      "metadata": {
        "id": "H-A-h84_FTzd"
      },
      "source": [
        "Corpus class with a generator for generating words of each document"
      ]
    },
    {
      "cell_type": "code",
      "metadata": {
        "id": "m1Dh-zObPtOf"
      },
      "source": [
        "class MyCorpus:\n",
        "    def __init__(self,data):\n",
        "      self.data = data_stopwordless\n",
        "      self.data['tokens'] = self.data['doc'].apply(word_tokenize)\n",
        "\n",
        "    def __iter__(self):\n",
        "        for n in range(len(self.data)):\n",
        "          yield self.data['tokens'][n]"
      ],
      "execution_count": null,
      "outputs": []
    },
    {
      "cell_type": "markdown",
      "metadata": {
        "id": "nIcg5hBrFswz"
      },
      "source": [
        "training a gensim word2vec model"
      ]
    },
    {
      "cell_type": "code",
      "metadata": {
        "id": "ePWPvYCKUktq"
      },
      "source": [
        "import gensim.models\n",
        "sentences = MyCorpus(data_stopwordless)\n",
        "model = gensim.models.Word2Vec(sentences=sentences , sg= 1 , size = 300 )"
      ],
      "execution_count": null,
      "outputs": []
    },
    {
      "cell_type": "markdown",
      "metadata": {
        "id": "kko9-TRFF1Ow"
      },
      "source": [
        "most similar words to the word 'فوتبال'"
      ]
    },
    {
      "cell_type": "code",
      "metadata": {
        "id": "jQlfZrPnWjrs",
        "colab": {
          "base_uri": "https://localhost:8080/"
        },
        "outputId": "588b46cb-2c94-44ca-df1d-d218b0da3ebf"
      },
      "source": [
        "# print(model.most_similar(positive= 'هنر', topn=10))\n",
        "for i in model.most_similar(positive= 'فوتبال', topn=10):\n",
        "  print(i)"
      ],
      "execution_count": null,
      "outputs": [
        {
          "output_type": "stream",
          "text": [
            "('باشگاهی', 0.6346694231033325)\n",
            "('ونگلوس', 0.612361490726471)\n",
            "('ایویچ', 0.6085985898971558)\n",
            "('فیفا', 0.6048627495765686)\n",
            "('فوتسال', 0.6011633276939392)\n",
            "('ستارگان', 0.5964178442955017)\n",
            "('بلاتر', 0.5948675870895386)\n",
            "('آسیاست', 0.5947573184967041)\n",
            "('تیمهای', 0.5916184186935425)\n",
            "('بسکتبال', 0.5907583832740784)\n"
          ],
          "name": "stdout"
        },
        {
          "output_type": "stream",
          "text": [
            "/usr/local/lib/python3.7/dist-packages/ipykernel_launcher.py:2: DeprecationWarning: Call to deprecated `most_similar` (Method will be removed in 4.0.0, use self.wv.most_similar() instead).\n",
            "  \n"
          ],
          "name": "stderr"
        }
      ]
    },
    {
      "cell_type": "markdown",
      "metadata": {
        "id": "T5IFbPsoRRHd"
      },
      "source": [
        "a functon that represent any document with weighted or nonweighted mean of its conataining words"
      ]
    },
    {
      "cell_type": "code",
      "metadata": {
        "id": "octystMbRxK3"
      },
      "source": [
        "def document_representation(data , model , weights = None ):\n",
        "  _data = data.copy()\n",
        "  _data['tokens'] = _data['doc'].apply(word_tokenize)\n",
        "  _data['mean_doc'] = 0\n",
        "  mean_doc_vec = list(len(_data) * '0')\n",
        "  for d in range(len(_data)):\n",
        "    vec_list = []\n",
        "    weight_list = []\n",
        "    for word in _data['tokens'][d]:\n",
        "      if weights == None:\n",
        "        try: vec_list.append(model[word])\n",
        "        except : pass\n",
        "      else:\n",
        "        try: \n",
        "          (x,y) = (weights[d][word] , model[word] )\n",
        "          weight_list.append(x)\n",
        "          vec_list.append(y)\n",
        "        except : pass\n",
        "    if weights == None: mean_doc_vec[d] = np.mean(vec_list , axis=0)\n",
        "    else :  mean_doc_vec[d] = np.average(vec_list , weights= weight_list , axis=0)\n",
        "  _data['mean_doc'] = mean_doc_vec\n",
        "  return _data['mean_doc']"
      ],
      "execution_count": null,
      "outputs": []
    },
    {
      "cell_type": "code",
      "metadata": {
        "colab": {
          "base_uri": "https://localhost:8080/"
        },
        "id": "XYLyzwomUq4E",
        "outputId": "7850e019-749c-4d44-c58f-39f21bb96d1e"
      },
      "source": [
        "doc_rep1 = document_representation(data_stopwordless , model , weights = None )\n",
        "model.similar_by_vector(doc_rep1[0])"
      ],
      "execution_count": null,
      "outputs": [
        {
          "output_type": "stream",
          "text": [
            "/usr/local/lib/python3.7/dist-packages/ipykernel_launcher.py:11: DeprecationWarning: Call to deprecated `__getitem__` (Method will be removed in 4.0.0, use self.wv.__getitem__() instead).\n",
            "  # This is added back by InteractiveShellApp.init_path()\n",
            "/usr/local/lib/python3.7/dist-packages/ipykernel_launcher.py:2: DeprecationWarning: Call to deprecated `similar_by_vector` (Method will be removed in 4.0.0, use self.wv.similar_by_vector() instead).\n",
            "  \n"
          ],
          "name": "stderr"
        },
        {
          "output_type": "execute_result",
          "data": {
            "text/plain": [
              "[('درجشنواره', 0.8795793056488037),\n",
              " ('میزگردی', 0.8556028604507446),\n",
              " ('همایشهای', 0.8391546010971069),\n",
              " ('صربستان', 0.8370053172111511),\n",
              " ('مستندسازان', 0.8361352682113647),\n",
              " ('کلاردشت', 0.8282492160797119),\n",
              " ('خوارزمی', 0.8277875185012817),\n",
              " ('ونکوور', 0.826371431350708),\n",
              " ('وسومین', 0.8251444697380066),\n",
              " ('هجدهمین', 0.8244458436965942)]"
            ]
          },
          "metadata": {
            "tags": []
          },
          "execution_count": 134
        }
      ]
    },
    {
      "cell_type": "markdown",
      "metadata": {
        "id": "Hj8IVEFDWN6D"
      },
      "source": [
        "calculating tf-idf "
      ]
    },
    {
      "cell_type": "code",
      "metadata": {
        "id": "IcsgCt576xE4"
      },
      "source": [
        "from sklearn.feature_extraction.text import TfidfVectorizer\n",
        "tfidf_vectorizer = TfidfVectorizer(max_df=0.95, min_df=2 , sublinear_tf = True , use_idf = True)\n",
        "tfidf = tfidf_vectorizer.fit_transform(data_stopwordless['doc'])"
      ],
      "execution_count": null,
      "outputs": []
    },
    {
      "cell_type": "code",
      "metadata": {
        "id": "BhZXK95i7SG6"
      },
      "source": [
        "tfidf_doc_word = []\n",
        "f_names = np.array(tfidf_vectorizer.get_feature_names())\n",
        "for i in range(len(data)):\n",
        "   _ , index = tfidf[i].nonzero()\n",
        "   my_dict = dict(zip(f_names[index].tolist(), tfidf[i , index].toarray().reshape(-1)))\n",
        "   tfidf_doc_word.append(my_dict)"
      ],
      "execution_count": null,
      "outputs": []
    },
    {
      "cell_type": "code",
      "metadata": {
        "id": "yR7nD5ZtKBlI",
        "colab": {
          "base_uri": "https://localhost:8080/"
        },
        "outputId": "1159ded4-ec0c-4207-c7f6-f349a7a4bc03"
      },
      "source": [
        "doc_rep2 = document_representation(data_stopwordless , model , weights = tfidf_doc_word )\n",
        "model.similar_by_vector(doc_rep2[0])"
      ],
      "execution_count": null,
      "outputs": [
        {
          "output_type": "stream",
          "text": [
            "/usr/local/lib/python3.7/dist-packages/ipykernel_launcher.py:15: DeprecationWarning: Call to deprecated `__getitem__` (Method will be removed in 4.0.0, use self.wv.__getitem__() instead).\n",
            "  from ipykernel import kernelapp as app\n",
            "/usr/local/lib/python3.7/dist-packages/ipykernel_launcher.py:2: DeprecationWarning: Call to deprecated `similar_by_vector` (Method will be removed in 4.0.0, use self.wv.similar_by_vector() instead).\n",
            "  \n"
          ],
          "name": "stderr"
        },
        {
          "output_type": "execute_result",
          "data": {
            "text/plain": [
              "[('موسیقی', 0.8435825109481812),\n",
              " ('درجشنواره', 0.7887652516365051),\n",
              " ('خوانندگی', 0.7526266574859619),\n",
              " ('مستندساز', 0.7514504790306091),\n",
              " ('چکناوریان', 0.7498195767402649),\n",
              " ('اجراهای', 0.748239278793335),\n",
              " ('هجدهمین', 0.7459216713905334),\n",
              " ('نوازندگان', 0.7439624071121216),\n",
              " ('ریفی', 0.7438907027244568),\n",
              " ('دوسالانه', 0.7438660860061646)]"
            ]
          },
          "metadata": {
            "tags": []
          },
          "execution_count": 135
        }
      ]
    },
    {
      "cell_type": "markdown",
      "metadata": {
        "id": "CR2w5XMbXo98"
      },
      "source": [
        "loading pre-trained word representation vectors"
      ]
    },
    {
      "cell_type": "code",
      "metadata": {
        "id": "N5fVMpvR_Cao"
      },
      "source": [
        "pretrained_vector = {}\n",
        "with open('/content/drive/MyDrive/nlp/HW2/hamshahri.fa.text.300.vec',  encoding = 'UTF-8') as file:\n",
        "    data_lines = file.readlines()\n",
        "    for line_idx in range(1,len(data_lines)):\n",
        "        line = data_lines[line_idx]\n",
        "        splited_line = line.split(' ')\n",
        "        pretrained_vector[splited_line[0]] = np.array(splited_line[1:]).astype('float64')"
      ],
      "execution_count": null,
      "outputs": []
    },
    {
      "cell_type": "code",
      "metadata": {
        "id": "cy9F98eGJY8x"
      },
      "source": [
        "doc_rep3 = document_representation(data_stopwordless , pretrained_vector , weights = None )"
      ],
      "execution_count": null,
      "outputs": []
    },
    {
      "cell_type": "code",
      "metadata": {
        "id": "Jl8zXkyojQvm"
      },
      "source": [
        "doc_rep4 = document_representation(data_stopwordless , pretrained_vector , weights = tfidf_doc_word )"
      ],
      "execution_count": null,
      "outputs": []
    },
    {
      "cell_type": "markdown",
      "metadata": {
        "id": "WbBtYjqpUkbr"
      },
      "source": [
        "## LSA Model"
      ]
    },
    {
      "cell_type": "markdown",
      "metadata": {
        "id": "Tf8__8YaYJ5N"
      },
      "source": [
        "calculating tf"
      ]
    },
    {
      "cell_type": "code",
      "metadata": {
        "id": "MR8NLmOkQNP3"
      },
      "source": [
        "from sklearn.feature_extraction.text import CountVectorizer\n",
        "tf_vectorizer = CountVectorizer(max_df=0.95, min_df=2)\n",
        "tf = tf_vectorizer.fit_transform(data_stopwordless['doc'])"
      ],
      "execution_count": null,
      "outputs": []
    },
    {
      "cell_type": "markdown",
      "metadata": {
        "id": "C8AdsVZpYMwA"
      },
      "source": [
        "SVD matrix factorization"
      ]
    },
    {
      "cell_type": "code",
      "metadata": {
        "id": "cA6mlinSYGpJ"
      },
      "source": [
        "from sklearn.decomposition import TruncatedSVD\n",
        "svd = TruncatedSVD(n_components=300, n_iter=7)\n",
        "svd_vector = svd.fit_transform(tf)"
      ],
      "execution_count": null,
      "outputs": []
    },
    {
      "cell_type": "code",
      "metadata": {
        "colab": {
          "base_uri": "https://localhost:8080/"
        },
        "id": "hntCQ2k3ol9-",
        "outputId": "78fbc9af-579a-4263-85f2-192ad1b34c0c"
      },
      "source": [
        "svd_vector.shape"
      ],
      "execution_count": null,
      "outputs": [
        {
          "output_type": "execute_result",
          "data": {
            "text/plain": [
              "(8599, 300)"
            ]
          },
          "metadata": {
            "tags": []
          },
          "execution_count": 139
        }
      ]
    },
    {
      "cell_type": "code",
      "metadata": {
        "id": "XWTgu9kg8X5g"
      },
      "source": [
        "lda = LatentDirichletAllocation(n_components=20, max_iter=5,\n",
        "                                learning_method='online',\n",
        "                                learning_offset=50.,\n",
        "                                random_state=0)\n",
        "lda_vector = lda.fit_transform(tf)"
      ],
      "execution_count": null,
      "outputs": []
    },
    {
      "cell_type": "markdown",
      "metadata": {
        "id": "LjL6rya5UwVG"
      },
      "source": [
        "# Clustering"
      ]
    },
    {
      "cell_type": "markdown",
      "metadata": {
        "id": "diHt9_gGixQ-"
      },
      "source": [
        "choosing a vector representation as train data"
      ]
    },
    {
      "cell_type": "code",
      "metadata": {
        "id": "lilUVwbu1tlW",
        "colab": {
          "base_uri": "https://localhost:8080/"
        },
        "outputId": "29d6e536-a404-4bd6-e8c8-34e5170f4c00"
      },
      "source": [
        "train_data =np.array(doc_rep1.values.tolist())\n",
        "train_data.shape\n",
        "# train_data = svd_vector\n",
        "# train_data = lda_vector"
      ],
      "execution_count": null,
      "outputs": [
        {
          "output_type": "execute_result",
          "data": {
            "text/plain": [
              "(8599, 300)"
            ]
          },
          "metadata": {
            "tags": []
          },
          "execution_count": 214
        }
      ]
    },
    {
      "cell_type": "markdown",
      "metadata": {
        "id": "77X-wkpojHEn"
      },
      "source": [
        "training a k-means clustering model"
      ]
    },
    {
      "cell_type": "code",
      "metadata": {
        "id": "IeVQH1_9V9kN"
      },
      "source": [
        "from sklearn.cluster import KMeans\n",
        "K = 5\n",
        "kmeans = KMeans(n_clusters= K ).fit(train_data)"
      ],
      "execution_count": null,
      "outputs": []
    },
    {
      "cell_type": "code",
      "metadata": {
        "id": "Fdy_1TPQgQ8b"
      },
      "source": [
        "labels = kmeans.labels_"
      ],
      "execution_count": null,
      "outputs": []
    },
    {
      "cell_type": "code",
      "metadata": {
        "id": "iO1LaXlLxZJt"
      },
      "source": [
        "from collections import Counter\n",
        "\n",
        "def most_frequent(List):\n",
        "    occurence_count = Counter(List)\n",
        "    return occurence_count.most_common(1)[0][0]\n",
        "\n",
        "def replace(x , y , input_list):\n",
        "  return [y if item==x else item for item in input_list]"
      ],
      "execution_count": null,
      "outputs": []
    },
    {
      "cell_type": "markdown",
      "metadata": {
        "id": "LceMHVo3jKzT"
      },
      "source": [
        "finde the most frequent label in each cluster and choose it as the cluster label"
      ]
    },
    {
      "cell_type": "code",
      "metadata": {
        "colab": {
          "base_uri": "https://localhost:8080/"
        },
        "id": "Yoxg5t2jo0wF",
        "outputId": "3e9344d8-a129-497d-9b9a-9b820217034f"
      },
      "source": [
        "label_cluster = []\n",
        "for i in range(len(data)):\n",
        "  l = labels[i]\n",
        "  c = data['topic'][i]\n",
        "  label_cluster.append((c,l))\n",
        "\n",
        "main_labels = []\n",
        "for l in range(K):\n",
        "  lab = [ll[0] for ll in label_cluster if ll[1]==l]\n",
        "  main_labels.append((most_frequent(lab) , l))\n",
        "\n",
        "main_labels"
      ],
      "execution_count": null,
      "outputs": [
        {
          "output_type": "execute_result",
          "data": {
            "text/plain": [
              "[('ورزش', 0), ('سیاسی', 1), ('اقتصاد', 2), ('اقتصاد', 3), ('اجتماعی', 4)]"
            ]
          },
          "metadata": {
            "tags": []
          },
          "execution_count": 218
        }
      ]
    },
    {
      "cell_type": "code",
      "metadata": {
        "colab": {
          "base_uri": "https://localhost:8080/"
        },
        "id": "u82fzsX0pC8p",
        "outputId": "5f94f84c-4c69-4bbf-bf57-8e47db7360ce"
      },
      "source": [
        "for l in main_labels:\n",
        "  labels = replace(l[1] , l[0] , labels)\n",
        "\n",
        "labels = np.array(labels)\n",
        "labels.shape"
      ],
      "execution_count": null,
      "outputs": [
        {
          "output_type": "execute_result",
          "data": {
            "text/plain": [
              "(8599,)"
            ]
          },
          "metadata": {
            "tags": []
          },
          "execution_count": 219
        }
      ]
    },
    {
      "cell_type": "markdown",
      "metadata": {
        "id": "3ZnxUAuUjYeS"
      },
      "source": [
        "Accuracy"
      ]
    },
    {
      "cell_type": "code",
      "metadata": {
        "id": "0Tgnrj_Hrobm",
        "colab": {
          "base_uri": "https://localhost:8080/"
        },
        "outputId": "ef61ae7d-4b99-4543-b102-df1995b8082e"
      },
      "source": [
        "from sklearn.metrics import accuracy_score\n",
        "true_label = data['topic']\n",
        "accuracy_score(true_label, labels)"
      ],
      "execution_count": null,
      "outputs": [
        {
          "output_type": "execute_result",
          "data": {
            "text/plain": [
              "0.7476450750087219"
            ]
          },
          "metadata": {
            "tags": []
          },
          "execution_count": 220
        }
      ]
    },
    {
      "cell_type": "markdown",
      "metadata": {
        "id": "foK8VRi5jafs"
      },
      "source": [
        "F-Measure"
      ]
    },
    {
      "cell_type": "code",
      "metadata": {
        "id": "0T7nexnUTiQy",
        "colab": {
          "base_uri": "https://localhost:8080/"
        },
        "outputId": "54edfb71-c433-46a9-84de-ae3a0f0e2eb3"
      },
      "source": [
        "from sklearn.metrics import f1_score\n",
        "f1_score(true_label, labels , average='weighted')"
      ],
      "execution_count": null,
      "outputs": [
        {
          "output_type": "execute_result",
          "data": {
            "text/plain": [
              "0.7208717236069403"
            ]
          },
          "metadata": {
            "tags": []
          },
          "execution_count": 221
        }
      ]
    },
    {
      "cell_type": "markdown",
      "metadata": {
        "id": "hR6NnoLojdKg"
      },
      "source": [
        "NMI"
      ]
    },
    {
      "cell_type": "code",
      "metadata": {
        "id": "yKmmNkhcilIs",
        "colab": {
          "base_uri": "https://localhost:8080/"
        },
        "outputId": "2d39c2e5-94a8-4027-81e4-6ec65dc5d0a1"
      },
      "source": [
        "from sklearn.metrics.cluster import normalized_mutual_info_score\n",
        "normalized_mutual_info_score(true_label, labels)"
      ],
      "execution_count": null,
      "outputs": [
        {
          "output_type": "execute_result",
          "data": {
            "text/plain": [
              "0.6211308670380395"
            ]
          },
          "metadata": {
            "tags": []
          },
          "execution_count": 222
        }
      ]
    },
    {
      "cell_type": "markdown",
      "metadata": {
        "id": "39yyAallBIOH"
      },
      "source": [
        "# Topic Modeling"
      ]
    },
    {
      "cell_type": "code",
      "metadata": {
        "id": "uf_piLfzBUix"
      },
      "source": [
        "from sklearn.decomposition import LatentDirichletAllocation"
      ],
      "execution_count": null,
      "outputs": []
    },
    {
      "cell_type": "code",
      "metadata": {
        "id": "FDG5teiXD9Kv"
      },
      "source": [
        "# tf_vectorizer = CountVectorizer(max_df=0.95, min_df=2)\n",
        "# tf = tf_vectorizer.fit_transform(data_stopwordless['doc'])"
      ],
      "execution_count": null,
      "outputs": []
    },
    {
      "cell_type": "markdown",
      "metadata": {
        "id": "zyveYqzgjnfU"
      },
      "source": [
        "making a LDA model with tf"
      ]
    },
    {
      "cell_type": "code",
      "metadata": {
        "id": "7x-EH9gbEQ45",
        "colab": {
          "base_uri": "https://localhost:8080/"
        },
        "outputId": "889db2b8-5a05-4e0e-9628-a80ac20673b4"
      },
      "source": [
        "lda = LatentDirichletAllocation(n_components=5, max_iter=5,\n",
        "                                learning_method='online',\n",
        "                                learning_offset=50.,\n",
        "                                random_state=0)\n",
        "lda.fit(tf)"
      ],
      "execution_count": null,
      "outputs": [
        {
          "output_type": "execute_result",
          "data": {
            "text/plain": [
              "LatentDirichletAllocation(batch_size=128, doc_topic_prior=None,\n",
              "                          evaluate_every=-1, learning_decay=0.7,\n",
              "                          learning_method='online', learning_offset=50.0,\n",
              "                          max_doc_update_iter=100, max_iter=5,\n",
              "                          mean_change_tol=0.001, n_components=5, n_jobs=None,\n",
              "                          perp_tol=0.1, random_state=0, topic_word_prior=None,\n",
              "                          total_samples=1000000.0, verbose=0)"
            ]
          },
          "metadata": {
            "tags": []
          },
          "execution_count": 64
        }
      ]
    },
    {
      "cell_type": "code",
      "metadata": {
        "colab": {
          "base_uri": "https://localhost:8080/"
        },
        "id": "pgEajICiR8ZW",
        "outputId": "5bd914b6-9107-4668-f809-6c264fe4be3f"
      },
      "source": [
        "lda.components_.shape\n",
        "lda.transform(tf).shape"
      ],
      "execution_count": null,
      "outputs": [
        {
          "output_type": "execute_result",
          "data": {
            "text/plain": [
              "(8599, 5)"
            ]
          },
          "metadata": {
            "tags": []
          },
          "execution_count": 65
        }
      ]
    },
    {
      "cell_type": "markdown",
      "metadata": {
        "id": "IiD591zHl6U-"
      },
      "source": [
        "ilustrating top word of each topic"
      ]
    },
    {
      "cell_type": "code",
      "metadata": {
        "colab": {
          "base_uri": "https://localhost:8080/",
          "height": 689
        },
        "id": "LXXXQ731Jxau",
        "outputId": "27e8c6a4-ce71-4520-da0f-e93a8eda4aaf"
      },
      "source": [
        "def plot_top_words(model, feature_names, n_top_words, title):\n",
        "    fig, axes = plt.subplots(1, 5, figsize=(30, 15), sharex=True)\n",
        "    axes = axes.flatten()\n",
        "    for topic_idx, topic in enumerate(model.components_):\n",
        "        top_features_ind = topic.argsort()[:-n_top_words - 1:-1]\n",
        "        top_features = [feature_names[i] for i in top_features_ind]\n",
        "        top_features = [get_display(arabic_reshaper.reshape(i)) for i in top_features]\n",
        "\n",
        "        weights = topic[top_features_ind]\n",
        "\n",
        "        ax = axes[topic_idx]\n",
        "        ax.barh(top_features, weights, height=0.7 )\n",
        "        ax.set_title(f'Topic {topic_idx +1}',\n",
        "                     fontdict={'fontsize': 30})\n",
        "        ax.invert_yaxis()\n",
        "        ax.tick_params(axis='y', which='both', labelsize= 20 )\n",
        "        for i in 'top right left'.split():\n",
        "            ax.spines[i].set_visible(False)\n",
        "        fig.suptitle(title, fontsize=40)\n",
        "\n",
        "tf_feature_names = tf_vectorizer.get_feature_names()\n",
        "plot_top_words(lda, tf_feature_names, 10, 'Topics in LDA model')\n"
      ],
      "execution_count": null,
      "outputs": [
        {
          "output_type": "stream",
          "text": [
            "/usr/local/lib/python3.7/dist-packages/matplotlib/backends/backend_agg.py:214: RuntimeWarning: Glyph 65010 missing from current font.\n",
            "  font.set_text(s, 0.0, flags=flags)\n",
            "/usr/local/lib/python3.7/dist-packages/matplotlib/backends/backend_agg.py:183: RuntimeWarning: Glyph 65010 missing from current font.\n",
            "  font.set_text(s, 0, flags=flags)\n"
          ],
          "name": "stderr"
        },
        {
          "output_type": "display_data",
          "data": {
            "image/png": "[encoded data removed]",
            "text/plain": [
              "<Figure size 2160x1080 with 5 Axes>"
            ]
          },
          "metadata": {
            "tags": [],
            "needs_background": "light"
          }
        }
      ]
    },
    {
      "cell_type": "markdown",
      "metadata": {
        "id": "3Db28J2OnkVC"
      },
      "source": [
        "documents topic assignment"
      ]
    },
    {
      "cell_type": "code",
      "metadata": {
        "id": "H_txvOfGTkdx"
      },
      "source": [
        "topic_doc = lda.transform(tf)\n",
        "lda_label = np.zeros(len(data))\n",
        "for i in range(len(data)):\n",
        "  lda_label[i] = np.argmax(topic_doc[i])"
      ],
      "execution_count": null,
      "outputs": []
    },
    {
      "cell_type": "markdown",
      "metadata": {
        "id": "d0HWJJ21n3pD"
      },
      "source": [
        "documents labeling"
      ]
    },
    {
      "cell_type": "code",
      "metadata": {
        "colab": {
          "base_uri": "https://localhost:8080/"
        },
        "id": "33wphCcwjfWV",
        "outputId": "20c18f85-3e98-47ef-9ee2-0823e8c25d50"
      },
      "source": [
        "list1 = []\n",
        "for i in range(len(data)):\n",
        "  l = lda_label[i]\n",
        "  t = data['topic'][i]\n",
        "  list1.append((t,l))\n",
        "\n",
        "main_labels = []\n",
        "for l in range(5):\n",
        "  lab = [ll[0] for ll in list1 if ll[1]==l]\n",
        "  main_labels.append((most_frequent(lab) , l))\n",
        "main_labels"
      ],
      "execution_count": null,
      "outputs": [
        {
          "output_type": "execute_result",
          "data": {
            "text/plain": [
              "[('ورزش', 0), ('سیاسی', 1), ('سیاسی', 2), ('اجتماعی', 3), ('اقتصاد', 4)]"
            ]
          },
          "metadata": {
            "tags": []
          },
          "execution_count": 195
        }
      ]
    },
    {
      "cell_type": "code",
      "metadata": {
        "colab": {
          "base_uri": "https://localhost:8080/"
        },
        "id": "22t6u0mokFVX",
        "outputId": "dd0a69b0-0cfd-4025-c1a7-4f6168b7aa1a"
      },
      "source": [
        "for l in main_labels:\n",
        "  lda_label = replace(l[1] , l[0] , lda_label)\n",
        "\n",
        "lda_label = np.array(lda_label)\n",
        "lda_label"
      ],
      "execution_count": null,
      "outputs": [
        {
          "output_type": "execute_result",
          "data": {
            "text/plain": [
              "array(['اجتماعی', 'اقتصاد', 'سیاسی', ..., 'سیاسی', 'اجتماعی', 'سیاسی'],\n",
              "      dtype='<U7')"
            ]
          },
          "metadata": {
            "tags": []
          },
          "execution_count": 196
        }
      ]
    },
    {
      "cell_type": "markdown",
      "metadata": {
        "id": "XiuPSOcFn8CM"
      },
      "source": [
        "Accuracy"
      ]
    },
    {
      "cell_type": "code",
      "metadata": {
        "colab": {
          "base_uri": "https://localhost:8080/"
        },
        "id": "-90zB4OflOoK",
        "outputId": "21125822-a757-4c0f-c3cc-6f566e4809b7"
      },
      "source": [
        "true_label = data['topic']\n",
        "accuracy_score(true_label, lda_label)"
      ],
      "execution_count": null,
      "outputs": [
        {
          "output_type": "execute_result",
          "data": {
            "text/plain": [
              "0.7045005233166647"
            ]
          },
          "metadata": {
            "tags": []
          },
          "execution_count": 197
        }
      ]
    },
    {
      "cell_type": "markdown",
      "metadata": {
        "id": "fvw5FnKVoDoB"
      },
      "source": [
        "F-Measure"
      ]
    },
    {
      "cell_type": "code",
      "metadata": {
        "id": "D57LdcLZlcKT",
        "colab": {
          "base_uri": "https://localhost:8080/"
        },
        "outputId": "91781567-3da7-4a69-e09d-27a1b961969f"
      },
      "source": [
        "f1_score(true_label, lda_label , average='weighted')"
      ],
      "execution_count": null,
      "outputs": [
        {
          "output_type": "execute_result",
          "data": {
            "text/plain": [
              "0.6684964667480401"
            ]
          },
          "metadata": {
            "tags": []
          },
          "execution_count": 200
        }
      ]
    },
    {
      "cell_type": "markdown",
      "metadata": {
        "id": "f3Ppl80boFZ3"
      },
      "source": [
        "NMI"
      ]
    },
    {
      "cell_type": "code",
      "metadata": {
        "colab": {
          "base_uri": "https://localhost:8080/"
        },
        "id": "XkOl45PnmUW4",
        "outputId": "6ad68822-0ccc-4a1b-a5e2-b4e375eabddb"
      },
      "source": [
        "normalized_mutual_info_score(true_label, lda_label)"
      ],
      "execution_count": null,
      "outputs": [
        {
          "output_type": "execute_result",
          "data": {
            "text/plain": [
              "0.5563954736142461"
            ]
          },
          "metadata": {
            "tags": []
          },
          "execution_count": 201
        }
      ]
    }
  ]
}